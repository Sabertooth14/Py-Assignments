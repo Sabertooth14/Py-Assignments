{
 "cells": [
  {
   "cell_type": "code",
   "execution_count": 1,
   "id": "9bd97c4e",
   "metadata": {},
   "outputs": [],
   "source": [
    "def even_num(mlist):\n",
    "    alleven=[]\n",
    "    for no in mlist:\n",
    "        if no%2==0:\n",
    "            alleven.append(no)\n",
    "        else:\n",
    "            pass\n",
    "        \n",
    "        \n",
    "    return alleven"
   ]
  },
  {
   "cell_type": "code",
   "execution_count": 3,
   "id": "bb813cd3",
   "metadata": {},
   "outputs": [
    {
     "data": {
      "text/plain": [
       "[2, 6]"
      ]
     },
     "execution_count": 3,
     "metadata": {},
     "output_type": "execute_result"
    }
   ],
   "source": [
    "even_num([2,6,3])"
   ]
  },
  {
   "cell_type": "markdown",
   "id": "94431737",
   "metadata": {},
   "source": [
    "TUPLE UNPACKING"
   ]
  },
  {
   "cell_type": "code",
   "execution_count": 4,
   "id": "58c8e6da",
   "metadata": {},
   "outputs": [],
   "source": [
    "player_price=[('CR7',125),('LM10',100),('PP6',80)]"
   ]
  },
  {
   "cell_type": "code",
   "execution_count": 5,
   "id": "76dedbcb",
   "metadata": {},
   "outputs": [],
   "source": [
    "def tup_unpack(player_price):\n",
    "    maxp=0\n",
    "    player=\"\"\n",
    "    for a,b in player_price:\n",
    "        if b>maxp:\n",
    "            maxp=b\n",
    "            player=a\n",
    "        else:\n",
    "            pass\n",
    "        \n",
    "    return(player,maxp)"
   ]
  },
  {
   "cell_type": "code",
   "execution_count": 7,
   "id": "dd149c87",
   "metadata": {},
   "outputs": [
    {
     "data": {
      "text/plain": [
       "('CR7', 125)"
      ]
     },
     "execution_count": 7,
     "metadata": {},
     "output_type": "execute_result"
    }
   ],
   "source": [
    "tup_unpack(player_price)"
   ]
  },
  {
   "cell_type": "markdown",
   "id": "d119e34e",
   "metadata": {},
   "source": [
    "INTERACTION BETWEEN FUNCTIONS: 3 CUP MONTE"
   ]
  },
  {
   "cell_type": "code",
   "execution_count": 8,
   "id": "9fa9cf3e",
   "metadata": {},
   "outputs": [],
   "source": []
  },
  {
   "cell_type": "code",
   "execution_count": 9,
   "id": "ee6dfe8d",
   "metadata": {},
   "outputs": [],
   "source": [
    "from random import shuffle"
   ]
  },
  {
   "cell_type": "code",
   "execution_count": 28,
   "id": "ad34e424",
   "metadata": {},
   "outputs": [],
   "source": [
    "def shuffled_list(gamelist):\n",
    "    shuffle(gamelist)\n",
    "    return gamelist"
   ]
  },
  {
   "cell_type": "code",
   "execution_count": 29,
   "id": "4b082291",
   "metadata": {},
   "outputs": [
    {
     "data": {
      "text/plain": [
       "['O', '', '']"
      ]
     },
     "execution_count": 29,
     "metadata": {},
     "output_type": "execute_result"
    }
   ],
   "source": [
    "gamelist"
   ]
  },
  {
   "cell_type": "code",
   "execution_count": 24,
   "id": "88c44059",
   "metadata": {},
   "outputs": [],
   "source": [
    "def playr_guess():\n",
    "    guess=''\n",
    "    \n",
    "    guessing_list=['0','1','2']\n",
    "    while guess not in guessing_list:\n",
    "            guess=input(\"Pick a number form 0 to 2: \")\n",
    "            \n",
    "    return int(guess)"
   ]
  },
  {
   "cell_type": "code",
   "execution_count": 25,
   "id": "ab42488c",
   "metadata": {},
   "outputs": [
    {
     "name": "stdout",
     "output_type": "stream",
     "text": [
      "Pick a number form 0 to 2: 3\n",
      "Pick a number form 0 to 2: 2\n"
     ]
    },
    {
     "data": {
      "text/plain": [
       "2"
      ]
     },
     "execution_count": 25,
     "metadata": {},
     "output_type": "execute_result"
    }
   ],
   "source": [
    "playr_guess()"
   ]
  },
  {
   "cell_type": "code",
   "execution_count": 51,
   "id": "29331892",
   "metadata": {},
   "outputs": [],
   "source": [
    "def answr_check(gamelist,guess):\n",
    "    if gamelist[guess]=='O':\n",
    "        print(\"Congrats!! You guessed correctly\")\n",
    "    else:\n",
    "        print(\"Wong answer...Better luck next time\")\n",
    "        print(gamelist)"
   ]
  },
  {
   "cell_type": "markdown",
   "id": "80a5cd7c",
   "metadata": {},
   "source": []
  },
  {
   "cell_type": "code",
   "execution_count": 57,
   "id": "f34e7d26",
   "metadata": {},
   "outputs": [
    {
     "name": "stdout",
     "output_type": "stream",
     "text": [
      "Pick a number form 0 to 2: \n",
      "Pick a number form 0 to 2: 1\n",
      "Wong answer...Better luck next time\n",
      "['', '', 'O']\n"
     ]
    }
   ],
   "source": [
    "answr_check(shuffled_list(gamelist),playr_guess())"
   ]
  },
  {
   "cell_type": "code",
   "execution_count": null,
   "id": "686f4e5a",
   "metadata": {},
   "outputs": [],
   "source": []
  },
  {
   "cell_type": "code",
   "execution_count": 10,
   "id": "59efb0e2",
   "metadata": {},
   "outputs": [],
   "source": [
    "def myfunc(*args):\n",
    "    mylist=[]\n",
    "    for numbers in args:\n",
    "        if numbers%2==0:\n",
    "            mylist.append(numbers)\n",
    "        else:\n",
    "            pass\n",
    "    return mylist"
   ]
  },
  {
   "cell_type": "code",
   "execution_count": 11,
   "id": "da758dbd",
   "metadata": {},
   "outputs": [
    {
     "data": {
      "text/plain": [
       "[8, 2]"
      ]
     },
     "execution_count": 11,
     "metadata": {},
     "output_type": "execute_result"
    }
   ],
   "source": [
    "myfunc(8,3,5,2)"
   ]
  },
  {
   "cell_type": "code",
   "execution_count": 16,
   "id": "5c4ec604",
   "metadata": {},
   "outputs": [],
   "source": [
    "=\"Pranav\""
   ]
  },
  {
   "cell_type": "code",
   "execution_count": 25,
   "id": "e2b3f921",
   "metadata": {},
   "outputs": [],
   "source": [
    "\n",
    "def myfunc(mystring):\n",
    "    temp=\"\"\n",
    "    for i in range(0,len(mystring)):\n",
    "        if i%2==0:\n",
    "            temp = temp +mystring[i].upper()\n",
    "        else:\n",
    "            temp= temp + mystring[i].lower()\n",
    "            \n",
    "            \n",
    "            \n",
    "    return temp\n",
    "        "
   ]
  },
  {
   "cell_type": "code",
   "execution_count": 26,
   "id": "2bfd9524",
   "metadata": {},
   "outputs": [
    {
     "name": "stdout",
     "output_type": "stream",
     "text": [
      "Pranav\n"
     ]
    },
    {
     "data": {
      "text/plain": [
       "'PrAnAv'"
      ]
     },
     "execution_count": 26,
     "metadata": {},
     "output_type": "execute_result"
    }
   ],
   "source": [
    "myfunc(\"Pranav\")"
   ]
  },
  {
   "cell_type": "markdown",
   "id": "c09cbc5a",
   "metadata": {},
   "source": [
    "FUNCTIONS PRACTICE PROBLEMS"
   ]
  },
  {
   "cell_type": "code",
   "execution_count": 22,
   "id": "1fc86946",
   "metadata": {},
   "outputs": [],
   "source": [
    "def lesser_of_two(a,b):\n",
    "    if a%2==0 and b%2 ==0:\n",
    "        if(a>b):\n",
    "            return b\n",
    "        else:\n",
    "            return a\n",
    "    else:\n",
    "        if(a>b):\n",
    "            return a\n",
    "        else:\n",
    "            return b"
   ]
  },
  {
   "cell_type": "code",
   "execution_count": 23,
   "id": "739007c4",
   "metadata": {},
   "outputs": [
    {
     "data": {
      "text/plain": [
       "2"
      ]
     },
     "execution_count": 23,
     "metadata": {},
     "output_type": "execute_result"
    }
   ],
   "source": [
    "lesser_of_two(2,4)"
   ]
  },
  {
   "cell_type": "code",
   "execution_count": 24,
   "id": "c6d90306",
   "metadata": {},
   "outputs": [
    {
     "data": {
      "text/plain": [
       "2"
      ]
     },
     "execution_count": 24,
     "metadata": {},
     "output_type": "execute_result"
    }
   ],
   "source": [
    "lesser_of_two(2,4)"
   ]
  },
  {
   "cell_type": "code",
   "execution_count": 25,
   "id": "fe54f4b3",
   "metadata": {},
   "outputs": [
    {
     "data": {
      "text/plain": [
       "5"
      ]
     },
     "execution_count": 25,
     "metadata": {},
     "output_type": "execute_result"
    }
   ],
   "source": [
    "lesser_of_two(2,5)"
   ]
  },
  {
   "cell_type": "code",
   "execution_count": 26,
   "id": "0246dadf",
   "metadata": {},
   "outputs": [
    {
     "data": {
      "text/plain": [
       "4"
      ]
     },
     "execution_count": 26,
     "metadata": {},
     "output_type": "execute_result"
    }
   ],
   "source": [
    "lesser_of_two(4,6)"
   ]
  },
  {
   "cell_type": "code",
   "execution_count": 27,
   "id": "e2f9d985",
   "metadata": {},
   "outputs": [
    {
     "data": {
      "text/plain": [
       "9"
      ]
     },
     "execution_count": 27,
     "metadata": {},
     "output_type": "execute_result"
    }
   ],
   "source": [
    "lesser_of_two(4,9)"
   ]
  },
  {
   "cell_type": "code",
   "execution_count": 28,
   "id": "8612cfd2",
   "metadata": {},
   "outputs": [
    {
     "data": {
      "text/plain": [
       "3"
      ]
     },
     "execution_count": 28,
     "metadata": {},
     "output_type": "execute_result"
    }
   ],
   "source": [
    "lesser_of_two(3,2)"
   ]
  },
  {
   "cell_type": "code",
   "execution_count": 6,
   "id": "5637cc33",
   "metadata": {},
   "outputs": [],
   "source": [
    "def animal_cracker(text):\n",
    "  #  for t in range(0,len(text)):\n",
    "      #  first=text[0]\n",
    "    #    if text[t]==\" \":\n",
    "        #    second=text[t+1]\n",
    "  #  if(first==second):\n",
    "     #   return True\n",
    "    #else:\n",
    "   #     return False\n",
    "      words=text.split()\n",
    "      return words[0][0]==words[1][0]"
   ]
  },
  {
   "cell_type": "code",
   "execution_count": 7,
   "id": "2fc411cd",
   "metadata": {},
   "outputs": [
    {
     "data": {
      "text/plain": [
       "True"
      ]
     },
     "execution_count": 7,
     "metadata": {},
     "output_type": "execute_result"
    }
   ],
   "source": [
    "animal_cracker('Levelheaded Llama')"
   ]
  },
  {
   "cell_type": "code",
   "execution_count": 8,
   "id": "5e99f6b9",
   "metadata": {},
   "outputs": [
    {
     "data": {
      "text/plain": [
       "False"
      ]
     },
     "execution_count": 8,
     "metadata": {},
     "output_type": "execute_result"
    }
   ],
   "source": [
    "animal_cracker('Crazy Kangaroo')"
   ]
  },
  {
   "cell_type": "code",
   "execution_count": 33,
   "id": "185a07b0",
   "metadata": {},
   "outputs": [],
   "source": [
    "def makes_twenty(a,b):\n",
    "    if(a==20 or b==20) or (a+b==20):\n",
    "        return True\n",
    "    else:\n",
    "        return False"
   ]
  },
  {
   "cell_type": "code",
   "execution_count": 34,
   "id": "6476ec18",
   "metadata": {},
   "outputs": [
    {
     "data": {
      "text/plain": [
       "True"
      ]
     },
     "execution_count": 34,
     "metadata": {},
     "output_type": "execute_result"
    }
   ],
   "source": [
    "makes_twenty(20,10)"
   ]
  },
  {
   "cell_type": "code",
   "execution_count": 35,
   "id": "afb53936",
   "metadata": {},
   "outputs": [
    {
     "data": {
      "text/plain": [
       "True"
      ]
     },
     "execution_count": 35,
     "metadata": {},
     "output_type": "execute_result"
    }
   ],
   "source": [
    "makes_twenty(12,8)"
   ]
  },
  {
   "cell_type": "code",
   "execution_count": 36,
   "id": "086fd5d3",
   "metadata": {},
   "outputs": [
    {
     "data": {
      "text/plain": [
       "False"
      ]
     },
     "execution_count": 36,
     "metadata": {},
     "output_type": "execute_result"
    }
   ],
   "source": [
    "makes_twenty(5,6)"
   ]
  },
  {
   "cell_type": "code",
   "execution_count": 9,
   "id": "9bd353e9",
   "metadata": {},
   "outputs": [],
   "source": [
    "def old_mcdonald(name):\n",
    "  #  tp=\"\"\n",
    "   # for l in range (0,len(name)):\n",
    "    #    if l==0 or l==3:\n",
    "     #       tp=tp+name[l].upper()\n",
    "       # else:\n",
    "   #         tp=tp+name[l]\n",
    "        \n",
    "    #return tp\n",
    "    firsthalf=name[:3]\n",
    "    secondhalf=name[3:]\n",
    "    return firsthalf.capitalize() + secondhalf.capitalize()"
   ]
  },
  {
   "cell_type": "code",
   "execution_count": 10,
   "id": "a361581a",
   "metadata": {},
   "outputs": [
    {
     "data": {
      "text/plain": [
       "'MacDonalds'"
      ]
     },
     "execution_count": 10,
     "metadata": {},
     "output_type": "execute_result"
    }
   ],
   "source": [
    "old_mcdonald(\"macdonalds\")"
   ]
  },
  {
   "cell_type": "code",
   "execution_count": 11,
   "id": "51dca69e",
   "metadata": {},
   "outputs": [],
   "source": [
    "def almost_there(n):\n",
    "   # if(n in range(90,110) or n in range(190,210)):\n",
    "    #    return True\n",
    "    #else:\n",
    "     #   return False\n",
    "    return (abs(100-n)<=10) or (abs(200-n)<= 10)"
   ]
  },
  {
   "cell_type": "code",
   "execution_count": 12,
   "id": "e3b7abea",
   "metadata": {},
   "outputs": [
    {
     "data": {
      "text/plain": [
       "True"
      ]
     },
     "execution_count": 12,
     "metadata": {},
     "output_type": "execute_result"
    }
   ],
   "source": [
    "almost_there(104)"
   ]
  },
  {
   "cell_type": "code",
   "execution_count": 13,
   "id": "6204ad6d",
   "metadata": {},
   "outputs": [
    {
     "data": {
      "text/plain": [
       "False"
      ]
     },
     "execution_count": 13,
     "metadata": {},
     "output_type": "execute_result"
    }
   ],
   "source": [
    "almost_there(150)"
   ]
  },
  {
   "cell_type": "code",
   "execution_count": 14,
   "id": "52ce67e6",
   "metadata": {},
   "outputs": [
    {
     "data": {
      "text/plain": [
       "True"
      ]
     },
     "execution_count": 14,
     "metadata": {},
     "output_type": "execute_result"
    }
   ],
   "source": [
    "almost_there(209)"
   ]
  },
  {
   "cell_type": "code",
   "execution_count": 23,
   "id": "d298675a",
   "metadata": {},
   "outputs": [],
   "source": [
    "def has_33(nums):\n",
    "    for n in range(0,len(nums)-1):\n",
    "        if(nums[n]==3 and nums[n+1]==3):\n",
    "            return True\n",
    "    return False\n",
    "        \n",
    "        "
   ]
  },
  {
   "cell_type": "code",
   "execution_count": 24,
   "id": "65ebcbc8",
   "metadata": {},
   "outputs": [
    {
     "data": {
      "text/plain": [
       "True"
      ]
     },
     "execution_count": 24,
     "metadata": {},
     "output_type": "execute_result"
    }
   ],
   "source": [
    "has_33([1,3,3])"
   ]
  },
  {
   "cell_type": "code",
   "execution_count": 25,
   "id": "5ef9545f",
   "metadata": {},
   "outputs": [
    {
     "data": {
      "text/plain": [
       "False"
      ]
     },
     "execution_count": 25,
     "metadata": {},
     "output_type": "execute_result"
    }
   ],
   "source": [
    "has_33([1,3,1,3])"
   ]
  },
  {
   "cell_type": "code",
   "execution_count": 26,
   "id": "0c291e3d",
   "metadata": {},
   "outputs": [
    {
     "data": {
      "text/plain": [
       "False"
      ]
     },
     "execution_count": 26,
     "metadata": {},
     "output_type": "execute_result"
    }
   ],
   "source": [
    "has_33([3,1,3])"
   ]
  },
  {
   "cell_type": "code",
   "execution_count": 40,
   "id": "ca61f3bb",
   "metadata": {},
   "outputs": [],
   "source": [
    "def paper_doll(text):\n",
    "    np=\"\"\n",
    "    for i in range (0,len(text)):\n",
    "        np=np+text[i]*3\n",
    "    return np"
   ]
  },
  {
   "cell_type": "code",
   "execution_count": 41,
   "id": "4a1a88f3",
   "metadata": {},
   "outputs": [
    {
     "data": {
      "text/plain": [
       "'HHHeeellllllooo'"
      ]
     },
     "execution_count": 41,
     "metadata": {},
     "output_type": "execute_result"
    }
   ],
   "source": [
    "paper_doll(\"Hello\")"
   ]
  },
  {
   "cell_type": "code",
   "execution_count": 42,
   "id": "1819a647",
   "metadata": {},
   "outputs": [
    {
     "data": {
      "text/plain": [
       "'MMMiiissssssiiissssssiiippppppiii'"
      ]
     },
     "execution_count": 42,
     "metadata": {},
     "output_type": "execute_result"
    }
   ],
   "source": [
    "paper_doll(\"Mississippi\")"
   ]
  },
  {
   "cell_type": "code",
   "execution_count": 18,
   "id": "d738ecd8",
   "metadata": {},
   "outputs": [],
   "source": [
    "def blackjack(a,b,c):\n",
    "   # if(sum(a,b,c)<21):\n",
    "   #     return sum(a,b,c)\n",
    "    #elif(sum(a,b,c)>21):\n",
    "     #   return \"Bust\"\n",
    "    #elif(a==11 or b==11 or c==11):\n",
    "     # return (sum(a,b,c)-10)\n",
    "    if((a+b+c)<21):\n",
    "        return (a+b+c)\n",
    "    elif(((a+b+c)>21) and (a!=11 and b!=11 and c!=11)):\n",
    "        return \"Bust\"\n",
    "    elif((a==11 or b==11 or c==11) and ((a+b+c)>21)):\n",
    "        return ((a+b+c)-10)"
   ]
  },
  {
   "cell_type": "code",
   "execution_count": 19,
   "id": "31136e00",
   "metadata": {},
   "outputs": [
    {
     "data": {
      "text/plain": [
       "18"
      ]
     },
     "execution_count": 19,
     "metadata": {},
     "output_type": "execute_result"
    }
   ],
   "source": [
    "blackjack(5,6,7)"
   ]
  },
  {
   "cell_type": "code",
   "execution_count": 20,
   "id": "1cb1f89d",
   "metadata": {},
   "outputs": [
    {
     "data": {
      "text/plain": [
       "'Bust'"
      ]
     },
     "execution_count": 20,
     "metadata": {},
     "output_type": "execute_result"
    }
   ],
   "source": [
    "blackjack(9,9,9)"
   ]
  },
  {
   "cell_type": "code",
   "execution_count": 21,
   "id": "f7674287",
   "metadata": {},
   "outputs": [
    {
     "data": {
      "text/plain": [
       "19"
      ]
     },
     "execution_count": 21,
     "metadata": {},
     "output_type": "execute_result"
    }
   ],
   "source": [
    "blackjack(9,9,11)"
   ]
  },
  {
   "cell_type": "code",
   "execution_count": 12,
   "id": "4e937dff",
   "metadata": {},
   "outputs": [],
   "source": [
    "from math import sqrt\n",
    "\n",
    "def count_prime(num):\n",
    "    cp=0\n",
    "    #i=1\n",
    "    for n in range(1,num+1):\n",
    "        count=0\n",
    "        for j in range(1,num):\n",
    "            if (n%j==0):\n",
    "                count=count + 1\n",
    "            else:\n",
    "                pass\n",
    "        if(count==2):\n",
    "            cp=cp+1\n",
    "    return cp\n",
    "        "
   ]
  },
  {
   "cell_type": "code",
   "execution_count": 13,
   "id": "083e88de",
   "metadata": {},
   "outputs": [
    {
     "data": {
      "text/plain": [
       "25"
      ]
     },
     "execution_count": 13,
     "metadata": {},
     "output_type": "execute_result"
    }
   ],
   "source": [
    "count_prime(100)"
   ]
  },
  {
   "cell_type": "code",
   "execution_count": 7,
   "id": "1df18a13",
   "metadata": {},
   "outputs": [],
   "source": [
    "def spy_guess(nums):\n",
    "    code=[0,0,7,'x']\n",
    "    for n in nums:\n",
    "        if n==code[0]:\n",
    "            code.pop(0)\n",
    "    return len(code)==1"
   ]
  },
  {
   "cell_type": "code",
   "execution_count": 8,
   "id": "8ac2c394",
   "metadata": {},
   "outputs": [
    {
     "data": {
      "text/plain": [
       "True"
      ]
     },
     "execution_count": 8,
     "metadata": {},
     "output_type": "execute_result"
    }
   ],
   "source": [
    "spy_guess([1,2,4,0,0,7,5])"
   ]
  },
  {
   "cell_type": "code",
   "execution_count": 9,
   "id": "6b4527ca",
   "metadata": {},
   "outputs": [
    {
     "data": {
      "text/plain": [
       "True"
      ]
     },
     "execution_count": 9,
     "metadata": {},
     "output_type": "execute_result"
    }
   ],
   "source": [
    "spy_guess([1,0,2,4,0,5,7])"
   ]
  },
  {
   "cell_type": "code",
   "execution_count": null,
   "id": "30fdd55f",
   "metadata": {},
   "outputs": [],
   "source": []
  }
 ],
 "metadata": {
  "kernelspec": {
   "display_name": "Python 3",
   "language": "python",
   "name": "python3"
  },
  "language_info": {
   "codemirror_mode": {
    "name": "ipython",
    "version": 3
   },
   "file_extension": ".py",
   "mimetype": "text/x-python",
   "name": "python",
   "nbconvert_exporter": "python",
   "pygments_lexer": "ipython3",
   "version": "3.8.8"
  }
 },
 "nbformat": 4,
 "nbformat_minor": 5
}
