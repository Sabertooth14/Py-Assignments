{
 "cells": [
  {
   "cell_type": "code",
   "execution_count": 19,
   "id": "ebfe9650",
   "metadata": {},
   "outputs": [],
   "source": [
    "class Account():\n",
    "    \n",
    "    def __init__(self,owner,balance):\n",
    "        \n",
    "        self.owner = owner\n",
    "        self.balance = balance\n",
    "        \n",
    "    def __str__(self):\n",
    "        \n",
    "        print(f\"Account owner: {self.owner}\")\n",
    "        print(f\"Account balance: {self.balance} rupees\")\n",
    "              \n",
    "    def deposit(self,addamt):\n",
    "        \n",
    "        self.balance = self.balance + addamt\n",
    "        print(\"{} amount has been deposited\".format(addamt))\n",
    "        return (\"New balance = {}\".format(self.balance))\n",
    "    \n",
    "    def withdarw(self,subamt):\n",
    "        \n",
    "        if (subamt<self.balance):\n",
    "            self.balance = self.balance - subamt\n",
    "            print(\"{} amount has been withdrawn\".format(subamt))\n",
    "            return (\"New balance = {}\".format(self.balance))\n",
    "        else:\n",
    "            print(\"Funds Unavailable\")\n",
    "            \n",
    "    "
   ]
  },
  {
   "cell_type": "code",
   "execution_count": 20,
   "id": "f7ad925d",
   "metadata": {},
   "outputs": [],
   "source": [
    "acct1=Account(\"Pranav\",400)"
   ]
  },
  {
   "cell_type": "code",
   "execution_count": 21,
   "id": "b0645d99",
   "metadata": {},
   "outputs": [
    {
     "data": {
      "text/plain": [
       "'Pranav'"
      ]
     },
     "execution_count": 21,
     "metadata": {},
     "output_type": "execute_result"
    }
   ],
   "source": [
    "acct1.owner"
   ]
  },
  {
   "cell_type": "code",
   "execution_count": 22,
   "id": "4c02d7cc",
   "metadata": {},
   "outputs": [
    {
     "data": {
      "text/plain": [
       "400"
      ]
     },
     "execution_count": 22,
     "metadata": {},
     "output_type": "execute_result"
    }
   ],
   "source": [
    "acct1.balance"
   ]
  },
  {
   "cell_type": "code",
   "execution_count": 23,
   "id": "de4c280d",
   "metadata": {},
   "outputs": [
    {
     "name": "stdout",
     "output_type": "stream",
     "text": [
      "300 amount has been deposited\n"
     ]
    },
    {
     "data": {
      "text/plain": [
       "'New balance = 700'"
      ]
     },
     "execution_count": 23,
     "metadata": {},
     "output_type": "execute_result"
    }
   ],
   "source": [
    "acct1.deposit(300)"
   ]
  },
  {
   "cell_type": "code",
   "execution_count": 24,
   "id": "a6c227c1",
   "metadata": {},
   "outputs": [
    {
     "name": "stdout",
     "output_type": "stream",
     "text": [
      "Funds Unavailable\n"
     ]
    }
   ],
   "source": [
    "acct1.withdarw(1000)"
   ]
  },
  {
   "cell_type": "code",
   "execution_count": 25,
   "id": "fdb4f89e",
   "metadata": {},
   "outputs": [
    {
     "name": "stdout",
     "output_type": "stream",
     "text": [
      "600 amount has been withdrawn\n"
     ]
    },
    {
     "data": {
      "text/plain": [
       "'New balance = 100'"
      ]
     },
     "execution_count": 25,
     "metadata": {},
     "output_type": "execute_result"
    }
   ],
   "source": [
    "acct1.withdarw(600)"
   ]
  },
  {
   "cell_type": "code",
   "execution_count": 26,
   "id": "c648794c",
   "metadata": {},
   "outputs": [
    {
     "name": "stdout",
     "output_type": "stream",
     "text": [
      "Account owner: Pranav\n",
      "Account balance: 100 rupees\n"
     ]
    },
    {
     "ename": "TypeError",
     "evalue": "__str__ returned non-string (type NoneType)",
     "output_type": "error",
     "traceback": [
      "\u001b[1;31m---------------------------------------------------------------------------\u001b[0m",
      "\u001b[1;31mTypeError\u001b[0m                                 Traceback (most recent call last)",
      "\u001b[1;32m<ipython-input-26-698fde315aa6>\u001b[0m in \u001b[0;36m<module>\u001b[1;34m\u001b[0m\n\u001b[1;32m----> 1\u001b[1;33m \u001b[0mstr\u001b[0m\u001b[1;33m(\u001b[0m\u001b[0macct1\u001b[0m\u001b[1;33m)\u001b[0m\u001b[1;33m\u001b[0m\u001b[1;33m\u001b[0m\u001b[0m\n\u001b[0m",
      "\u001b[1;31mTypeError\u001b[0m: __str__ returned non-string (type NoneType)"
     ]
    }
   ],
   "source": [
    "str(acct1)"
   ]
  },
  {
   "cell_type": "code",
   "execution_count": null,
   "id": "2e136fc6",
   "metadata": {},
   "outputs": [],
   "source": []
  }
 ],
 "metadata": {
  "kernelspec": {
   "display_name": "Python 3",
   "language": "python",
   "name": "python3"
  },
  "language_info": {
   "codemirror_mode": {
    "name": "ipython",
    "version": 3
   },
   "file_extension": ".py",
   "mimetype": "text/x-python",
   "name": "python",
   "nbconvert_exporter": "python",
   "pygments_lexer": "ipython3",
   "version": "3.8.8"
  }
 },
 "nbformat": 4,
 "nbformat_minor": 5
}
