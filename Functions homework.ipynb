{
 "cells": [
  {
   "cell_type": "code",
   "execution_count": 4,
   "id": "c89c04be",
   "metadata": {},
   "outputs": [],
   "source": [
    "def vol(rad):\n",
    "    radius= (4/3)*(rad**3)*(3.14)\n",
    "    return radius"
   ]
  },
  {
   "cell_type": "code",
   "execution_count": 5,
   "id": "d0aecdb7",
   "metadata": {},
   "outputs": [
    {
     "data": {
      "text/plain": [
       "267.94666666666666"
      ]
     },
     "execution_count": 5,
     "metadata": {},
     "output_type": "execute_result"
    }
   ],
   "source": [
    "vol(4)"
   ]
  },
  {
   "cell_type": "code",
   "execution_count": 6,
   "id": "b24fa231",
   "metadata": {},
   "outputs": [
    {
     "data": {
      "text/plain": [
       "523.3333333333334"
      ]
     },
     "execution_count": 6,
     "metadata": {},
     "output_type": "execute_result"
    }
   ],
   "source": [
    "vol(5)"
   ]
  },
  {
   "cell_type": "code",
   "execution_count": 17,
   "id": "ab396c85",
   "metadata": {},
   "outputs": [],
   "source": [
    "def run_check(num,low,high):\n",
    "    if(num in range(low,high+1)):\n",
    "        print(f\"{num} is in the range between {low} and {high}\")\n",
    "    else:\n",
    "        print(\"No it's not\")"
   ]
  },
  {
   "cell_type": "code",
   "execution_count": 18,
   "id": "970f4451",
   "metadata": {},
   "outputs": [
    {
     "name": "stdout",
     "output_type": "stream",
     "text": [
      "5 is in the range between 2 and 7\n"
     ]
    }
   ],
   "source": [
    "run_check(5,2,7)"
   ]
  },
  {
   "cell_type": "code",
   "execution_count": 19,
   "id": "18c984ce",
   "metadata": {},
   "outputs": [
    {
     "name": "stdout",
     "output_type": "stream",
     "text": [
      "2 is in the range between 2 and 7\n"
     ]
    }
   ],
   "source": [
    "run_check(2,2,7)"
   ]
  },
  {
   "cell_type": "code",
   "execution_count": 20,
   "id": "45909416",
   "metadata": {},
   "outputs": [
    {
     "name": "stdout",
     "output_type": "stream",
     "text": [
      "7 is in the range between 2 and 7\n"
     ]
    }
   ],
   "source": [
    "run_check(7,2,7)"
   ]
  },
  {
   "cell_type": "code",
   "execution_count": 32,
   "id": "decbde55",
   "metadata": {},
   "outputs": [],
   "source": [
    "def up_low(s):\n",
    "    count_up=0\n",
    "    count_low=0\n",
    "    for c in s:\n",
    "        if(c.isupper()):\n",
    "            count_up+=1\n",
    "        elif(c.islower()):\n",
    "            count_low+=1\n",
    "    print(s)\n",
    "    print(f\"No. of Upper case characters :  {count_up}\")\n",
    "    print(f\"No. of Lower case Characters :  {count_low}\")"
   ]
  },
  {
   "cell_type": "code",
   "execution_count": 33,
   "id": "f8d9104a",
   "metadata": {},
   "outputs": [
    {
     "name": "stdout",
     "output_type": "stream",
     "text": [
      "Hello Mr. Rogers, how are you this fine Tuesday?\n",
      "No. of Upper case characters :  4\n",
      "No. of Lower case Characters :  33\n"
     ]
    }
   ],
   "source": [
    "s='Hello Mr. Rogers, how are you this fine Tuesday?'\n",
    "up_low(s)"
   ]
  },
  {
   "cell_type": "code",
   "execution_count": 44,
   "id": "03060934",
   "metadata": {},
   "outputs": [],
   "source": [
    "def unique_list(mylsit):\n",
    "    new_list=[]\n",
    "    for n in mylsit:\n",
    "        if n not in new_list:\n",
    "            new_list.append(n)\n",
    "        \n",
    "    return new_list"
   ]
  },
  {
   "cell_type": "code",
   "execution_count": 45,
   "id": "fe623fd3",
   "metadata": {},
   "outputs": [
    {
     "data": {
      "text/plain": [
       "[1, 3, 4, 5]"
      ]
     },
     "execution_count": 45,
     "metadata": {},
     "output_type": "execute_result"
    }
   ],
   "source": [
    "unique_list([1,3,4,4,5])"
   ]
  },
  {
   "cell_type": "code",
   "execution_count": 53,
   "id": "fe06bca0",
   "metadata": {},
   "outputs": [],
   "source": [
    "def multiply(nums):\n",
    "    total=1\n",
    "    for n in nums:\n",
    "        total*=n\n",
    "    return total"
   ]
  },
  {
   "cell_type": "code",
   "execution_count": 54,
   "id": "1e068706",
   "metadata": {},
   "outputs": [
    {
     "data": {
      "text/plain": [
       "-24"
      ]
     },
     "execution_count": 54,
     "metadata": {},
     "output_type": "execute_result"
    }
   ],
   "source": [
    "multiply([1, 2, 3, -4])"
   ]
  },
  {
   "cell_type": "code",
   "execution_count": 55,
   "id": "2eddf733",
   "metadata": {},
   "outputs": [
    {
     "data": {
      "text/plain": [
       "-90"
      ]
     },
     "execution_count": 55,
     "metadata": {},
     "output_type": "execute_result"
    }
   ],
   "source": [
    "multiply([3,5,1,-6])"
   ]
  },
  {
   "cell_type": "code",
   "execution_count": 59,
   "id": "50fb5bf3",
   "metadata": {},
   "outputs": [],
   "source": [
    "def palindrome(s):\n",
    "    if(s[::-1]==s):\n",
    "        return True\n",
    "    else: return False"
   ]
  },
  {
   "cell_type": "code",
   "execution_count": 60,
   "id": "d6a7fddf",
   "metadata": {},
   "outputs": [
    {
     "data": {
      "text/plain": [
       "True"
      ]
     },
     "execution_count": 60,
     "metadata": {},
     "output_type": "execute_result"
    }
   ],
   "source": [
    "s=\"helleh\"\n",
    "palindrome(s)"
   ]
  },
  {
   "cell_type": "code",
   "execution_count": 5,
   "id": "a0a59332",
   "metadata": {},
   "outputs": [],
   "source": [
    "import string\n",
    "\n",
    "def ispangram(mystr,alpha=string.ascii_lowercase):\n",
    "    alphabet=set(alpha)\n",
    "    mystr=mystr.replace(\" \",\"\")\n",
    "    mystr=mystr.lower()\n",
    "    mystr=set(mystr)\n",
    "    return mystr==alphabet"
   ]
  },
  {
   "cell_type": "code",
   "execution_count": 6,
   "id": "77f80c5b",
   "metadata": {},
   "outputs": [
    {
     "data": {
      "text/plain": [
       "True"
      ]
     },
     "execution_count": 6,
     "metadata": {},
     "output_type": "execute_result"
    }
   ],
   "source": [
    "ispangram(\"The quick brown fox jumps over the lazy dog\")"
   ]
  },
  {
   "cell_type": "code",
   "execution_count": 7,
   "id": "394fc4d7",
   "metadata": {},
   "outputs": [
    {
     "data": {
      "text/plain": [
       "'abcdefghijklmnopqrstuvwxyz'"
      ]
     },
     "execution_count": 7,
     "metadata": {},
     "output_type": "execute_result"
    }
   ],
   "source": [
    "string.ascii_lowercase"
   ]
  },
  {
   "cell_type": "code",
   "execution_count": 8,
   "id": "08d2a224",
   "metadata": {},
   "outputs": [
    {
     "data": {
      "text/plain": [
       "'ABCDEFGHIJKLMNOPQRSTUVWXYZ'"
      ]
     },
     "execution_count": 8,
     "metadata": {},
     "output_type": "execute_result"
    }
   ],
   "source": [
    "string.ascii_uppercase"
   ]
  },
  {
   "cell_type": "code",
   "execution_count": 9,
   "id": "1a481e40",
   "metadata": {},
   "outputs": [
    {
     "data": {
      "text/plain": [
       "'abcdefghijklmnopqrstuvwxyzABCDEFGHIJKLMNOPQRSTUVWXYZ'"
      ]
     },
     "execution_count": 9,
     "metadata": {},
     "output_type": "execute_result"
    }
   ],
   "source": [
    "string.ascii_letters"
   ]
  },
  {
   "cell_type": "code",
   "execution_count": null,
   "id": "c9ba7056",
   "metadata": {},
   "outputs": [],
   "source": []
  }
 ],
 "metadata": {
  "kernelspec": {
   "display_name": "Python 3",
   "language": "python",
   "name": "python3"
  },
  "language_info": {
   "codemirror_mode": {
    "name": "ipython",
    "version": 3
   },
   "file_extension": ".py",
   "mimetype": "text/x-python",
   "name": "python",
   "nbconvert_exporter": "python",
   "pygments_lexer": "ipython3",
   "version": "3.8.8"
  }
 },
 "nbformat": 4,
 "nbformat_minor": 5
}
