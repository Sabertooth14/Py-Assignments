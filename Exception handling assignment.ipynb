{
 "cells": [
  {
   "cell_type": "markdown",
   "id": "7aa95fca",
   "metadata": {},
   "source": [
    "ERROR AND EXCEPTION HANDLING HOMEWORK"
   ]
  },
  {
   "cell_type": "code",
   "execution_count": 3,
   "id": "aba251de",
   "metadata": {},
   "outputs": [
    {
     "name": "stdout",
     "output_type": "stream",
     "text": [
      "Improper data type\n"
     ]
    }
   ],
   "source": [
    "try:\n",
    "    \n",
    "    for i in ['a', 'b', 'c']:\n",
    "        print(i**2)\n",
    "        \n",
    "except TypeError:\n",
    "    print(\"Improper data type\")\n",
    "        "
   ]
  },
  {
   "cell_type": "code",
   "execution_count": 4,
   "id": "5ae5e6a9",
   "metadata": {},
   "outputs": [
    {
     "name": "stdout",
     "output_type": "stream",
     "text": [
      "The denominator is zero\n",
      "All Done\n"
     ]
    }
   ],
   "source": [
    "x=5\n",
    "y=0\n",
    "\n",
    "try:\n",
    "    z=x/y\n",
    "    \n",
    "except ZeroDivisionError:\n",
    "    print(\"The denominator is zero\")\n",
    "    \n",
    "finally:\n",
    "    print(\"All Done\")"
   ]
  },
  {
   "cell_type": "code",
   "execution_count": 8,
   "id": "6749278a",
   "metadata": {},
   "outputs": [],
   "source": [
    "def ask():\n",
    "    \n",
    "    while True:\n",
    "        \n",
    "        try:\n",
    "            num = int(input(\"Enter a number: \"))      \n",
    "            \n",
    "        except:\n",
    "            print(\"An eror occured...Please try again\")\n",
    "            \n",
    "        else:\n",
    "            print(f\"The square of the number is {num**2}\")\n",
    "            break            "
   ]
  },
  {
   "cell_type": "code",
   "execution_count": 9,
   "id": "d9bd5644",
   "metadata": {},
   "outputs": [
    {
     "name": "stdout",
     "output_type": "stream",
     "text": [
      "Enter a number: g\n",
      "An eror occured...Please try again\n",
      "Enter a number: p\n",
      "An eror occured...Please try again\n",
      "Enter a number: 6\n",
      "The square of the number is 36\n"
     ]
    }
   ],
   "source": [
    "ask()"
   ]
  },
  {
   "cell_type": "code",
   "execution_count": null,
   "id": "77fcb779",
   "metadata": {},
   "outputs": [],
   "source": []
  }
 ],
 "metadata": {
  "kernelspec": {
   "display_name": "Python 3",
   "language": "python",
   "name": "python3"
  },
  "language_info": {
   "codemirror_mode": {
    "name": "ipython",
    "version": 3
   },
   "file_extension": ".py",
   "mimetype": "text/x-python",
   "name": "python",
   "nbconvert_exporter": "python",
   "pygments_lexer": "ipython3",
   "version": "3.8.8"
  }
 },
 "nbformat": 4,
 "nbformat_minor": 5
}
